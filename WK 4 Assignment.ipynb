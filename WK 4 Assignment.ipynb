{
    "cells": [
        {
            "cell_type": "markdown",
            "metadata": {
                "collapsed": true
            },
            "source": "INTRODUCTION\n\nThe City of Dallas Office of Arts and Culture (OAC) oversees nineteen city-owned cultural facilities in which visitors can enjoy a variety of arts and cultural programs. In total these venues represent more than 1.5 million square feet dedicated to the arts and cultures. Seven of these facilities are directly managed by the OAC: Majestic Theatre, Moody Performance Hall, Bath House Cultural Center, Latino Cultural Center, Oak Cliff Cultural Center, South Dallas Cultural Center, and the Juanita Craft Civil Rights House. The other twelve venues are managed in partnership with non-profit arts and cultural organizations. Since these cultural facilities attract not only the citizens, but also tourists, I wants to evaluate what type of venues/businesses are close to each of the seven facilities the OAC manages in order to identify new opportunities to enhance the visitor\u2019s experiences. This project will be of interest to the city of Dallas and to any potential or current business owners that want to expand or reach a specific niche.\n\n\nDATA\n\nThree sources will be used to evaluate the problem. First, I will obtain data of the seven cultural facilities managed by OAC through \u2018Dallas Open Data\u2019 (https://www.dallasopendata.com/resource/6cte-99qc.json). This site offers the latest data from the city of Dallas. The file I will use is called \u2018Dallas Cultural Centers\u2019 and includes basic information like Facility Name, Address, City, State, Zip Code, Phone Number, Latitude, Longitude, Hours, Description, and Geolocation. The second source is Foursquare\u2019s API. I will use it to further explore the neighborhoods where the centers are located and identify the main types of venues/businesses around each center. Finally to obtain the latitude and longitude of Dallas and create a map of the city with markers showing each of the venues, I will use the guppy library.\n"
        }
    ],
    "metadata": {
        "kernelspec": {
            "display_name": "Python 3.6",
            "language": "python",
            "name": "python3"
        },
        "language_info": {
            "codemirror_mode": {
                "name": "ipython",
                "version": 3
            },
            "file_extension": ".py",
            "mimetype": "text/x-python",
            "name": "python",
            "nbconvert_exporter": "python",
            "pygments_lexer": "ipython3",
            "version": "3.6.9"
        }
    },
    "nbformat": 4,
    "nbformat_minor": 1
}